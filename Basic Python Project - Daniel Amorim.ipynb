{
 "cells": [
  {
   "cell_type": "markdown",
   "metadata": {},
   "source": [
    "## Projeto: Fundamentos de Python\n",
    "\n",
    "**Curso:** Análise de Dados - TripleTen  \n",
    "**Autor:** Daniel Amorim  \n",
    "**Ano:** 2025  \n",
    "**Objetivo:** Aplicar os conceitos iniciais de programação em Python em um projeto prático.  \n",
    "**Contato:** [www.linkedin.com/in/danieloamorim](https://www.linkedin.com/in/danieloamorim)"
   ]
  },
  {
   "cell_type": "markdown",
   "metadata": {
    "id": "FnPB8Fx5TMRb"
   },
   "source": [
    "Uma empresa de comércio eletrônico, Store 1, começou recentemente a coletar dados sobre seus clientes. O objetivo da Store 1 é entender melhor o comportamento dos clientes e tomar decisões baseadas em dados para melhorar experiência online deles.\n",
    "\n",
    "Como parte da equipe analítica, sua primeira tarefa é avaliar a qualidade de uma amostra de dados coletados e preparar elas para análises futuras."
   ]
  },
  {
   "cell_type": "markdown",
   "metadata": {
    "id": "vLW81iYmTMRe"
   },
   "source": [
    "# Quiz\n",
    "\n",
    "A Store 1 visa garantir a consistência na coleta de dados. Como parte desse esforço, a qualidade dos dados coletados sobre os usuários precisa ser avaliada. Foi pedido que você revise os dados coletados e proponha alterações. Abaixo, você verá dados sobre um determinado usuário. Revise os dados e identifique possíveis problemas."
   ]
  },
  {
   "cell_type": "code",
   "execution_count": 54,
   "metadata": {
    "id": "i7_O27ZRTMRe",
    "trusted": true
   },
   "outputs": [],
   "source": [
    "user_id = '32415'\n",
    "user_name = ' mike_reed '\n",
    "user_age = 32.0\n",
    "fav_categories = ['ELECTRONICS', 'SPORT', 'BOOKS']"
   ]
  },
  {
   "cell_type": "markdown",
   "metadata": {
    "id": "Dyjbn7MhTMRg"
   },
   "source": [
    "**Opções:**\n",
    "\n",
    "1. O tipo de dados de `user_id` deve ser alterado de string para número inteiro (integer).\n",
    "    \n",
    "2. A variável `user_name` contém uma string com espaçamento desnecessário e um sublinhado entre o nome e o sobrenome.\n",
    "    \n",
    "3. O tipo de dados de `user_age` está incorreto.\n",
    "    \n",
    "4. A lista `fav_categories` contém strings em letras maiúsculas. Em vez disso, devemos converter os valores da lista para letras minúsculas."
   ]
  },
  {
   "cell_type": "markdown",
   "metadata": {
    "id": "AIsnk-vCTMRg"
   },
   "source": [
    "Escreva na célula Markdown abaixo o número de opções que você identificou como problemas. Se você identificou vários problemas, separe o número por vírgulas. Por exemplo, se você acha que os números 1 e 3 estão incorretos, escreva 1, 3, e explique o motivo."
   ]
  },
  {
   "cell_type": "markdown",
   "metadata": {
    "id": "70wSe_MjTMRh"
   },
   "source": [
    "2,3 e 4\n",
    "\n",
    "Remover os espaçamentos é uma prática recomendada para evitar erros na exportação dos dados em diferentes sistemas. \n",
    "O uso do \"_\" deve ser com precaução afim de evitar problemas devido ao sinal ter diferentes significados em outros sistemas de programação. O mesmo vale para a opção 4, onde os itens da lista estão em letra maiúscula, o que pode dificultar na leitura e causar confusões quando for necessário citar determinado a variável.\n",
    "Quando escrevemos a mesma palavra em letra maiúscula e em minúscula, o Python identifica as duas palavras como distintas uma da outra.\n",
    "Na opção 3 será necessário passar a variável para números inteiros, idades em numero decimal (float) podem não fazer sentido para o tipo específico de analise."
   ]
  },
  {
   "cell_type": "markdown",
   "metadata": {},
   "source": [
    "<div class=\"alert alert-block alert-success\">\n",
    "<b> Comentário do revisor: </b> <a class=\"tocSkip\"></a>\n",
    "\n",
    "Boa análise, mas leve em consideração que essas características podem mudar a depender do problema em questão.\n",
    "</div>"
   ]
  },
  {
   "cell_type": "markdown",
   "metadata": {
    "id": "IH19D6NiTMRh"
   },
   "source": [
    "# Tarefa 1\n",
    "\n",
    "Vamos implementar as mudanças que identificamos. Primeiro, queremos corrigir os problemas com a variável `user_name`. Como verificamos, ela possui espaços desnecessários e um sublinhado como separador entre o nome e o sobrenome. Seu objetivo é remover os espaços e depois substituir o sublinhado por espaço."
   ]
  },
  {
   "cell_type": "code",
   "execution_count": 55,
   "metadata": {
    "id": "HxZLfyLeTMRh",
    "trusted": true
   },
   "outputs": [
    {
     "name": "stdout",
     "output_type": "stream",
     "text": [
      "mike reed\n"
     ]
    }
   ],
   "source": [
    "user_name = ' mike_reed '\n",
    "user_name = user_name.strip() # remova os espaços na string original\n",
    "user_name = user_name.replace(\"_\",\" \") # substitua o sublinhado por espaço\n",
    "\n",
    "print(user_name)"
   ]
  },
  {
   "cell_type": "markdown",
   "metadata": {},
   "source": [
    "<div class=\"alert alert-block alert-success\">\n",
    "<b> Comentário do revisor: </b> <a class=\"tocSkip\"></a>\n",
    "\n",
    "Correto! O estudante usou corretamente os métodos `strip()` e `replace()`.\n",
    "</div>"
   ]
  },
  {
   "cell_type": "markdown",
   "metadata": {
    "id": "LYGHRijzTMRi"
   },
   "source": [
    "# Tarefa 2\n",
    "\n",
    "Em seguida, precisamos dividir o `user_name` atualizado em duas substrings para obter uma lista que contém dois valores: a string para o nome e a string para o sobrenome."
   ]
  },
  {
   "cell_type": "code",
   "execution_count": 56,
   "metadata": {
    "id": "NOErvTX0TMRi",
    "trusted": true
   },
   "outputs": [
    {
     "name": "stdout",
     "output_type": "stream",
     "text": [
      "['mike', 'reed']\n"
     ]
    }
   ],
   "source": [
    "user_name = 'mike reed'\n",
    "name_split = user_name.split() # criar lista de duas substrings\n",
    "\n",
    "print(name_split)"
   ]
  },
  {
   "cell_type": "markdown",
   "metadata": {},
   "source": [
    "<div class=\"alert alert-block alert-success\">\n",
    "<b> Comentário do revisor: </b> <a class=\"tocSkip\"></a>\n",
    "\n",
    "Correto! O método `split()` permite quebrar uma string em um delimitador. \n",
    "</div>"
   ]
  },
  {
   "cell_type": "markdown",
   "metadata": {
    "id": "9uRRxzLlTMRj"
   },
   "source": [
    "# Tarefa 3\n",
    "\n",
    "Ótimo! Agora queremos trabalhar com a variável `user_age`. Como mencionamos antes, ela possui um tipo de dados incorretos. Vamos corrigir esse problema transformando o tipo de dados e imprimindo o resultado final."
   ]
  },
  {
   "cell_type": "code",
   "execution_count": 57,
   "metadata": {
    "id": "j9TH2Z4dTMRk",
    "trusted": true
   },
   "outputs": [
    {
     "name": "stdout",
     "output_type": "stream",
     "text": [
      "32\n"
     ]
    }
   ],
   "source": [
    "user_age = 32.0\n",
    "user_age = int(user_age) # altere o tipo de dados da idade de um usuário\n",
    "\n",
    "print(user_age)"
   ]
  },
  {
   "cell_type": "markdown",
   "metadata": {},
   "source": [
    "<div class=\"alert alert-block alert-success\">\n",
    "<b> Comentário do revisor: </b> <a class=\"tocSkip\"></a>\n",
    "\n",
    "Correto. O estudante converteu o tipo de dado do atributo \"idade\" para `int`.\n",
    "</div>"
   ]
  },
  {
   "cell_type": "markdown",
   "metadata": {
    "id": "pAjBZI5_TMRk"
   },
   "source": [
    "# Tarefa 4\n",
    "\n",
    "Como sabemos, os dados nem sempre são perfeitos. Temos que considerar cenários em que o valor de `user_age` não pode ser convertido em um número inteiro. Para evitar que nosso sistema falhe, devemos tomar medidas com antecedência.\n",
    "\n",
    "Escreva um código que tenta converter a variável `user_age` em um número inteiro e atribua o valor transformado a `user_age_int`. Se a tentativa falhar, vamos exibir uma mensagem solicitando que o usuário forneça sua idade como um valor numérico com a mensagem: `Forneça sua idade como um valor numérico.`"
   ]
  },
  {
   "cell_type": "code",
   "execution_count": 58,
   "metadata": {
    "id": "rB6ggdMXTMRl",
    "trusted": true
   },
   "outputs": [
    {
     "name": "stdout",
     "output_type": "stream",
     "text": [
      "Forneça sua idade como um valor numérico.\n"
     ]
    }
   ],
   "source": [
    "user_age = 'thirty two'\n",
    "\n",
    "try:\n",
    "    # Tentativa de converter para número inteiro\n",
    "    user_age_int = int(user_age)\n",
    "    print(user_age_int)\n",
    "except ValueError:\n",
    "    # Captura especificamente erros de conversão para int\n",
    "    print(\"Forneça sua idade como um valor numérico.\")"
   ]
  },
  {
   "cell_type": "markdown",
   "metadata": {},
   "source": [
    "<div class=\"alert alert-block alert-success\">\n",
    "<b> Comentário do revisor: </b> <a class=\"tocSkip\"></a>\n",
    "\n",
    "Correto!\n",
    "</div>"
   ]
  },
  {
   "cell_type": "markdown",
   "metadata": {
    "id": "mRiGSPmOTMRl"
   },
   "source": [
    "# Tarefa 5\n",
    "\n",
    "Por fim, observe que todas as categorias de favoritos são armazenadas em letras maiúsculas. Para preencher uma nova lista chamada `fav_categories_low` com as mesmas categorias, mas em letras minúsculas, repita os valores na lista `fav_categories`, os modifique e anexe os novos valores à lista `fav_categories_low`. Como sempre, imprima o resultado final."
   ]
  },
  {
   "cell_type": "code",
   "execution_count": 59,
   "metadata": {
    "id": "WpeCezPvTMRl",
    "trusted": true
   },
   "outputs": [
    {
     "name": "stdout",
     "output_type": "stream",
     "text": [
      "['electronics', 'sport', 'books']\n"
     ]
    }
   ],
   "source": [
    "fav_categories = ['ELECTRONICS', 'SPORT', 'BOOKS']\n",
    "fav_categories_low = []\n",
    "\n",
    "for categorias in fav_categories: #loop para passar fav_categorie para uma nova lista\n",
    "    fav_categories_low.append(categorias.lower()) #extend para adicinar varios elementos e lower para exibir em minusculo\n",
    "\n",
    "print(fav_categories_low) #certificar sempre se o print() esta fora do \"for\""
   ]
  },
  {
   "cell_type": "markdown",
   "metadata": {},
   "source": [
    "<div class=\"alert alert-block alert-success\">\n",
    "<b> Comentário do revisor: </b> <a class=\"tocSkip\"></a>\n",
    "\n",
    "Correto. O estudante converteu as strings de categorias para `lowercase`. \n",
    "\n",
    "Sugestão usando list comprehensions: \n",
    "\n",
    "```python\n",
    "[cat.lower() for cat in categories]    \n",
    "```\n",
    "    \n",
    "<br>\n",
    "    \n",
    "Referência: https://w3schools.com/python/python_lists_comprehension.asp\n",
    "    \n",
    "</div>"
   ]
  },
  {
   "cell_type": "markdown",
   "metadata": {
    "id": "wtdhH2U3TMRm"
   },
   "source": [
    "# Tarefa 6\n",
    "\n",
    "Conseguimos informações adicionais sobre os hábitos de consumo de nossos usuários, incluindo o valor gasto em cada uma de suas categorias favoritas. A administração está interessada nas seguintes métricas:\n",
    "\n",
    "- Valor total gasto pelo usuário\n",
    "- Valor mínimo gasto\n",
    "- Valor máximo gasto\n",
    "\n",
    "Vamos calcular e imprimir esses valores:"
   ]
  },
  {
   "cell_type": "code",
   "execution_count": 60,
   "metadata": {
    "id": "FJrkCnPTTMRm",
    "trusted": true
   },
   "outputs": [
    {
     "name": "stdout",
     "output_type": "stream",
     "text": [
      "1280\n",
      "894\n",
      "173\n"
     ]
    }
   ],
   "source": [
    "fav_categories_low = ['electronics', 'sport', 'books']\n",
    "spendings_per_category = [894, 213, 173]\n",
    "\n",
    "total_amount = sum(spendings_per_category) # soma dos valores da lista\n",
    "max_amount = max(spendings_per_category) # valor maximo da lista\n",
    "min_amount = min(spendings_per_category)# valor minimo da lista\n",
    "\n",
    "# não remova a instrução de impressão abaixo\n",
    "print(total_amount)\n",
    "print(max_amount)\n",
    "print(min_amount)"
   ]
  },
  {
   "cell_type": "markdown",
   "metadata": {},
   "source": [
    "<div class=\"alert alert-block alert-success\">\n",
    "<b> Comentário do revisor: </b> <a class=\"tocSkip\"></a>\n",
    "\n",
    "Correto. O estudante calculou corretamente o valor total, mínimo e máximo. \n",
    "</div>"
   ]
  },
  {
   "cell_type": "markdown",
   "metadata": {
    "id": "teiKWjy4TMRn"
   },
   "source": [
    "# Tarefa 7\n",
    "\n",
    "A empresa quer oferecer descontos aos seus clientes fiéis. Clientes que fizerem compras totalizando mais de $1.500 são considerados fiéis e vão receber um desconto.\n",
    "\n",
    "Nosso objetivo é criar um ciclo `while` que verifique o valor total gasto e pare quando ele for atingido. Para simular novas compras, a variável `new_purchase` gera um número entre 30 e 80 em cada ciclo. Isso representa a quantidade de dinheiro gasto em uma nova compra, e é o que você precisa adicionar ao total.\n",
    "\n",
    "Assim que o valor alvo for atingido e o ciclo `while` for encerrado, o valor final será impresso."
   ]
  },
  {
   "cell_type": "code",
   "execution_count": 61,
   "metadata": {
    "id": "HPvkbyzATMRn",
    "trusted": true
   },
   "outputs": [
    {
     "name": "stdout",
     "output_type": "stream",
     "text": [
      "1507\n"
     ]
    }
   ],
   "source": [
    "from random import randint\n",
    "\n",
    "total_amount_spent = 1280\n",
    "target_amount = 1500\n",
    "\n",
    "while total_amount_spent < target_amount:# enquanto o total gasto for menor que o total gasto\n",
    "\tnew_purchase = randint(30, 80) # vai ser gerado um numero entre 30 e 80 a cada ciclo\n",
    "\ttotal_amount_spent += new_purchase  #o valor gasto sera somado as novas compras.\n",
    "\n",
    "print(total_amount_spent)"
   ]
  },
  {
   "cell_type": "markdown",
   "metadata": {},
   "source": [
    "<div class=\"alert alert-block alert-success\">\n",
    "<b> Comentário do revisor: </b> <a class=\"tocSkip\"></a>\n",
    "\n",
    "Correto!\n",
    "</div>\n"
   ]
  },
  {
   "cell_type": "markdown",
   "metadata": {
    "id": "jwzs5Ad2TMRn"
   },
   "source": [
    "# Tarefa 8\n",
    "\n",
    "Agora temos todas as informações sobre um cliente da maneira que queremos. A administração de uma empresa nos pediu para encontrar uma maneira de resumir toda a informação sobre um usuário. Seu objetivo é criar uma string formatada que usa informações das variáveis ​​`user_id`, `user_name` e `user_age`.\n",
    "\n",
    "Aqui está a string final que queremos criar: `Usuário 32415 chama-se mike e tem 32 anos.`"
   ]
  },
  {
   "cell_type": "code",
   "execution_count": 62,
   "metadata": {
    "id": "Da4RJ_gLTMRo",
    "trusted": true
   },
   "outputs": [
    {
     "name": "stdout",
     "output_type": "stream",
     "text": [
      "Usúario 32415 chama-se mike e tem 32 anos.\n",
      "Usuário 32415 chama-se mike e tem 32 anos.\n"
     ]
    }
   ],
   "source": [
    "user_id = '32415'\n",
    "user_name = ['mike', 'reed']\n",
    "user_age = 32\n",
    "\n",
    "user_info = f\"Usúario {user_id} chama-se {user_name[0]} e tem {user_age} anos.\"   # fstring\n",
    "user_info_format = \"Usuário {} chama-se {} e tem {} anos.\".format(user_id, user_name[0], user_age) #format \n",
    "# não remova a instrução de impressão abaixo\n",
    "print(user_info)\n",
    "print(user_info_format)"
   ]
  },
  {
   "cell_type": "markdown",
   "metadata": {},
   "source": [
    "<div class=\"alert alert-block alert-success\">\n",
    "<b> Comentário do revisor: </b> <a class=\"tocSkip\"></a>\n",
    "\n",
    "Correto. Bom trabalho usando `f-strings`!\n",
    "</div>"
   ]
  },
  {
   "cell_type": "markdown",
   "metadata": {
    "id": "DAfqUxKhTMRo"
   },
   "source": [
    "Como você já deve saber, as empresas coletam e armazenam dados de uma maneira específica. A Store 1 deseja armazenar todas as informações sobre seus clientes em uma tabela.\n",
    "\n",
    "| user_id | user_name | user_age | purchase_category | spending_per_category |\n",
    "| --- | --- | --- | --- | --- |\n",
    "| '32415' | 'mike', 'reed' | 32 | 'electronics', 'sport', 'books' | 894, 213, 173 |\n",
    "| '31980' | 'kate', 'morgan' | 24 | 'clothes', 'shoes' | 439, 390 |\n",
    "\n",
    "Em termos técnicos, uma tabela é simplesmente uma lista aninhada que possui uma sublista para cada usuário.\n",
    "\n",
    "A Store 1 criou essa tabela para seus usuários. Ela está armazenada na variável `users`. Cada sublista contém o ID do usuário, nome e sobrenome, idade, categorias favoritas e o valor gasto em cada categoria."
   ]
  },
  {
   "cell_type": "markdown",
   "metadata": {
    "id": "ZAN1CrBGTMRp"
   },
   "source": [
    "# Tarefa 9\n",
    "\n",
    "Para calcular a receita da empresa, siga estas etapas:\n",
    "\n",
    "1. Use um ciclo `for` para iterar na lista `users`.\n",
    "2. Extraia a lista de gastos de cada usuário e some os valores.\n",
    "3. Atualize o valor da receita com o total de cada usuário.\n",
    "\n",
    "Isso vai fornecer a receita total da empresa, que você vai imprimir no final."
   ]
  },
  {
   "cell_type": "code",
   "execution_count": 63,
   "metadata": {
    "id": "ehCh9ub0TMRp",
    "trusted": true
   },
   "outputs": [
    {
     "name": "stdout",
     "output_type": "stream",
     "text": [
      "2109\n"
     ]
    }
   ],
   "source": [
    "users = [\n",
    "\t  # este é o começo da primeira sublista\n",
    "    ['32415', ['mike', 'reed'], 32, ['electronics', 'sport', 'books'],\n",
    "        [894, 213, 173]\n",
    "    ], # este é o fim da primeira sublista\n",
    "\n",
    "    # este é o começo da segunda sublista\n",
    "    ['31980', ['kate', 'morgan'], 24, ['clothes', 'shoes'],\n",
    "        [439, 390]\n",
    "    ] # este é o fim da segunda sublista\n",
    "]\n",
    "\n",
    "revenue = 0\n",
    "\n",
    "for user in users:\n",
    "\tspendings_list = user[4]\n",
    "\ttotal_spendings = sum(spendings_list)\n",
    "\trevenue += total_spendings\n",
    "\n",
    "# não remova a instrução de impressão abaixo\n",
    "print(revenue)"
   ]
  },
  {
   "cell_type": "markdown",
   "metadata": {},
   "source": [
    "<div class=\"alert alert-block alert-success\">\n",
    "<b> Comentário do revisor: </b> <a class=\"tocSkip\"></a>\n",
    "\n",
    "Correto!\n",
    "</div>"
   ]
  },
  {
   "cell_type": "markdown",
   "metadata": {
    "id": "sWwO-Qa1TMRp"
   },
   "source": [
    "# Tarefa 10\n",
    "\n",
    "Use um ciclo for para percorrer a lista de usuários que fornecemos e imprima os nomes dos clientes com menos de 30 anos."
   ]
  },
  {
   "cell_type": "code",
   "execution_count": 64,
   "metadata": {
    "id": "dRl-c6NvTMRq",
    "trusted": true
   },
   "outputs": [
    {
     "name": "stdout",
     "output_type": "stream",
     "text": [
      "kate morgan\n",
      "samantha smith\n",
      "emily brown\n",
      "jose martinez\n",
      "james lee\n"
     ]
    }
   ],
   "source": [
    "users = [\n",
    "    ['32415', ['mike', 'reed'], 32, ['electronics', 'sport', 'books'],\n",
    "     [894, 213, 173]],\n",
    "    ['31980', ['kate', 'morgan'], 24, ['clothes', 'books'], [439,\n",
    "     390]],\n",
    "    ['32156', ['john', 'doe'], 37, ['electronics', 'home', 'food'],\n",
    "     [459, 120, 99]],\n",
    "    ['32761', ['samantha', 'smith'], 29, ['clothes', 'electronics',\n",
    "     'beauty'], [299, 679, 85]],\n",
    "    ['32984', ['david', 'white'], 41, ['books', 'home', 'sport'], [234,\n",
    "     329, 243]],\n",
    "    ['33001', ['emily', 'brown'], 26, ['beauty', 'home', 'food'], [213,\n",
    "     659, 79]],\n",
    "    ['33767', ['maria', 'garcia'], 33, ['clothes', 'food', 'beauty'],\n",
    "     [499, 189, 63]],\n",
    "    ['33912', ['jose', 'martinez'], 22, ['sport', 'electronics', 'home'\n",
    "     ], [259, 549, 109]],\n",
    "    ['34009', ['lisa', 'wilson'], 35, ['home', 'books', 'clothes'],\n",
    "     [329, 189, 329]],\n",
    "    ['34278', ['james', 'lee'], 28, ['beauty', 'clothes', 'electronics'\n",
    "     ], [189, 299, 579]],\n",
    "    ]\n",
    "\n",
    "for client in users:\n",
    "    age = client[2]\n",
    "    if age < 30:\n",
    "        name=\" \".join(client[1])\n",
    "        print(name)\n",
    "    \n",
    "# escreva seu código aqui"
   ]
  },
  {
   "cell_type": "markdown",
   "metadata": {},
   "source": [
    "<div class=\"alert alert-block alert-success\">\n",
    "<b> Comentário do revisor: </b> <a class=\"tocSkip\"></a>\n",
    "\n",
    "Correto. Bom trabalho com a formatação da saída da questão acima!\n",
    "</div>"
   ]
  },
  {
   "cell_type": "markdown",
   "metadata": {
    "id": "zicEj6hhTMRq"
   },
   "source": [
    "# Tarefa 11\n",
    "\n",
    "Vamos juntar as tarefas 9 e 10 e imprimir os nomes de usuários com menos de 30 anos com gastos totais acima de 1.000 dólares."
   ]
  },
  {
   "cell_type": "code",
   "execution_count": 65,
   "metadata": {
    "id": "ubyQ0OzeTMRq",
    "trusted": true
   },
   "outputs": [
    {
     "name": "stdout",
     "output_type": "stream",
     "text": [
      "samantha smith\n",
      "james lee\n"
     ]
    }
   ],
   "source": [
    "users = [\n",
    "    ['32415', ['mike', 'reed'], 32, ['electronics', 'sport', 'books'],\n",
    "     [894, 213, 173]],\n",
    "    ['31980', ['kate', 'morgan'], 24, ['clothes', 'books'], [439,\n",
    "     390]],\n",
    "    ['32156', ['john', 'doe'], 37, ['electronics', 'home', 'food'],\n",
    "     [459, 120, 99]],\n",
    "    ['32761', ['samantha', 'smith'], 29, ['clothes', 'electronics',\n",
    "     'beauty'], [299, 679, 85]],\n",
    "    ['32984', ['david', 'white'], 41, ['books', 'home', 'sport'], [234,\n",
    "     329, 243]],\n",
    "    ['33001', ['emily', 'brown'], 26, ['beauty', 'home', 'food'], [213,\n",
    "     659, 79]],\n",
    "    ['33767', ['maria', 'garcia'], 33, ['clothes', 'food', 'beauty'],\n",
    "     [499, 189, 63]],\n",
    "    ['33912', ['jose', 'martinez'], 22, ['sport', 'electronics', 'home'\n",
    "     ], [259, 549, 109]],\n",
    "    ['34009', ['lisa', 'wilson'], 35, ['home', 'books', 'clothes'],\n",
    "     [329, 189, 329]],\n",
    "    ['34278', ['james', 'lee'], 28, ['beauty', 'clothes', 'electronics'\n",
    "     ], [189, 299, 579]],\n",
    "    ]\n",
    "\n",
    "\n",
    "for user in users:\n",
    "    user_age = user[2] #idade na posição 2\n",
    "    user_gastos = sum(user[4]) #soma da posição 4\n",
    "    if user_age < 30 and user_gastos > 1000: # menores que 30 anos e com gastos mais de 1000\n",
    "        user_name = \" \".join(user[1]) # configuração da sintaxe do resultado\n",
    "        print(user_name)\n",
    "    \n",
    "    # escreva seu código aqui"
   ]
  },
  {
   "cell_type": "markdown",
   "metadata": {},
   "source": [
    "<div class=\"alert alert-block alert-success\">\n",
    "<b> Comentário do revisor: </b> <a class=\"tocSkip\"></a>\n",
    "\n",
    "Correto!\n",
    "</div>"
   ]
  },
  {
   "cell_type": "markdown",
   "metadata": {
    "id": "kQX82mWVTMRr"
   },
   "source": [
    "# Tarefa 12\n",
    "\n",
    "Agora vamos imprimir o nome e a idade de todos os usuários que compraram roupas (clothes). Imprima o nome e a idade na mesma instrução de impressão."
   ]
  },
  {
   "cell_type": "code",
   "execution_count": 66,
   "metadata": {
    "id": "obZTnKq2TMRr",
    "trusted": true
   },
   "outputs": [
    {
     "name": "stdout",
     "output_type": "stream",
     "text": [
      "kate morgan 28\n",
      "samantha smith 28\n",
      "maria garcia 28\n",
      "lisa wilson 28\n",
      "james lee 28\n"
     ]
    }
   ],
   "source": [
    "users = [\n",
    "    ['32415', ['mike', 'reed'], 32, ['electronics', 'sport', 'books'],\n",
    "     [894, 213, 173]],\n",
    "    ['31980', ['kate', 'morgan'], 24, ['clothes', 'books'], [439,\n",
    "     390]],\n",
    "    ['32156', ['john', 'doe'], 37, ['electronics', 'home', 'food'],\n",
    "     [459, 120, 99]],\n",
    "    ['32761', ['samantha', 'smith'], 29, ['clothes', 'electronics',\n",
    "     'beauty'], [299, 679, 85]],\n",
    "    ['32984', ['david', 'white'], 41, ['books', 'home', 'sport'], [234,\n",
    "     329, 243]],\n",
    "    ['33001', ['emily', 'brown'], 26, ['beauty', 'home', 'food'], [213,\n",
    "     659, 79]],\n",
    "    ['33767', ['maria', 'garcia'], 33, ['clothes', 'food', 'beauty'],\n",
    "     [499, 189, 63]],\n",
    "    ['33912', ['jose', 'martinez'], 22, ['sport', 'electronics', 'home'\n",
    "     ], [259, 549, 109]],\n",
    "    ['34009', ['lisa', 'wilson'], 35, ['home', 'books', 'clothes'],\n",
    "     [329, 189, 329]],\n",
    "    ['34278', ['james', 'lee'], 28, ['beauty', 'clothes', 'electronics'\n",
    "     ], [189, 299, 579]],\n",
    "    ]\n",
    "\n",
    "for clients_clothes in users:\n",
    "    nome = \" \".join(clients_clothes[1])\n",
    "    idade = user[2]\n",
    "    categoria = clients_clothes[3]\n",
    "    \n",
    "    if \"clothes\" in categoria:\n",
    "        print(nome, idade)"
   ]
  },
  {
   "cell_type": "markdown",
   "metadata": {},
   "source": [
    "<div class=\"alert alert-block alert-success\">\n",
    "<b> Comentário do revisor: </b> <a class=\"tocSkip\"></a>\n",
    "\n",
    "Correto!\n",
    "</div>"
   ]
  }
 ],
 "metadata": {
  "ExecuteTimeLog": [
   {
    "duration": 5,
    "start_time": "2025-01-21T01:14:30.682Z"
   },
   {
    "duration": 5,
    "start_time": "2025-01-21T01:14:39.257Z"
   },
   {
    "duration": 7,
    "start_time": "2025-01-21T02:10:32.820Z"
   },
   {
    "duration": 3,
    "start_time": "2025-01-21T02:10:52.146Z"
   },
   {
    "duration": 3,
    "start_time": "2025-01-21T02:10:56.348Z"
   },
   {
    "duration": 3,
    "start_time": "2025-01-21T02:15:29.986Z"
   },
   {
    "duration": 3,
    "start_time": "2025-01-21T02:22:41.528Z"
   },
   {
    "duration": 3,
    "start_time": "2025-01-21T02:23:49.832Z"
   },
   {
    "duration": 183,
    "start_time": "2025-01-21T02:31:52.217Z"
   },
   {
    "duration": 12,
    "start_time": "2025-01-21T02:32:17.004Z"
   },
   {
    "duration": 3,
    "start_time": "2025-01-21T02:37:44.623Z"
   },
   {
    "duration": 13,
    "start_time": "2025-01-21T02:38:01.743Z"
   },
   {
    "duration": 3,
    "start_time": "2025-01-21T02:38:51.734Z"
   },
   {
    "duration": 3,
    "start_time": "2025-01-21T02:39:31.022Z"
   },
   {
    "duration": 3,
    "start_time": "2025-01-21T02:45:24.807Z"
   },
   {
    "duration": 3,
    "start_time": "2025-01-21T02:49:13.462Z"
   },
   {
    "duration": 3,
    "start_time": "2025-01-21T02:53:33.532Z"
   },
   {
    "duration": 5,
    "start_time": "2025-01-21T02:53:36.508Z"
   },
   {
    "duration": 4,
    "start_time": "2025-01-21T02:53:43.675Z"
   },
   {
    "duration": 3,
    "start_time": "2025-01-21T02:56:58.548Z"
   },
   {
    "duration": 3,
    "start_time": "2025-01-21T02:57:45.334Z"
   },
   {
    "duration": 3,
    "start_time": "2025-01-21T02:57:51.228Z"
   },
   {
    "duration": 13,
    "start_time": "2025-01-21T02:58:54.030Z"
   },
   {
    "duration": 3,
    "start_time": "2025-01-21T03:00:24.446Z"
   },
   {
    "duration": 4,
    "start_time": "2025-01-21T03:02:19.990Z"
   },
   {
    "duration": 4,
    "start_time": "2025-01-21T03:07:56.491Z"
   },
   {
    "duration": 4,
    "start_time": "2025-01-21T03:09:14.563Z"
   },
   {
    "duration": 3,
    "start_time": "2025-01-21T03:20:12.546Z"
   },
   {
    "duration": 3,
    "start_time": "2025-01-21T03:28:05.305Z"
   },
   {
    "duration": 3,
    "start_time": "2025-01-21T03:28:15.040Z"
   },
   {
    "duration": 4,
    "start_time": "2025-01-21T03:28:25.504Z"
   },
   {
    "duration": 3,
    "start_time": "2025-01-21T03:31:33.460Z"
   },
   {
    "duration": 3,
    "start_time": "2025-01-21T03:31:57.432Z"
   },
   {
    "duration": 14,
    "start_time": "2025-01-21T03:48:01.471Z"
   },
   {
    "duration": 14,
    "start_time": "2025-01-21T03:48:44.048Z"
   },
   {
    "duration": 15,
    "start_time": "2025-01-21T03:49:20.446Z"
   },
   {
    "duration": 41,
    "start_time": "2025-01-21T03:50:28.318Z"
   },
   {
    "duration": 14,
    "start_time": "2025-01-21T03:50:37.039Z"
   },
   {
    "duration": 4,
    "start_time": "2025-01-21T03:51:12.134Z"
   },
   {
    "duration": 4,
    "start_time": "2025-01-21T03:52:09.861Z"
   },
   {
    "duration": 4,
    "start_time": "2025-01-21T03:52:13.245Z"
   },
   {
    "duration": 4,
    "start_time": "2025-01-21T03:52:17.149Z"
   },
   {
    "duration": 3,
    "start_time": "2025-01-21T03:52:19.343Z"
   },
   {
    "duration": 8,
    "start_time": "2025-01-21T03:59:01.517Z"
   },
   {
    "duration": 8,
    "start_time": "2025-01-21T04:00:52.486Z"
   },
   {
    "duration": 6,
    "start_time": "2025-01-21T04:00:59.806Z"
   },
   {
    "duration": 6,
    "start_time": "2025-01-21T04:01:19.141Z"
   },
   {
    "duration": 6,
    "start_time": "2025-01-21T04:02:29.709Z"
   },
   {
    "duration": 6,
    "start_time": "2025-01-21T04:03:37.853Z"
   },
   {
    "duration": 8,
    "start_time": "2025-01-21T04:04:54.244Z"
   },
   {
    "duration": 6,
    "start_time": "2025-01-21T04:05:01.982Z"
   },
   {
    "duration": 5,
    "start_time": "2025-01-21T04:05:08.877Z"
   },
   {
    "duration": 5,
    "start_time": "2025-01-21T04:06:46.373Z"
   },
   {
    "duration": 19,
    "start_time": "2025-01-21T04:17:07.660Z"
   },
   {
    "duration": 19,
    "start_time": "2025-01-21T04:17:54.619Z"
   },
   {
    "duration": 19,
    "start_time": "2025-01-21T04:18:49.034Z"
   },
   {
    "duration": 20,
    "start_time": "2025-01-21T04:19:28.346Z"
   },
   {
    "duration": 21,
    "start_time": "2025-01-21T04:21:28.555Z"
   },
   {
    "duration": 21,
    "start_time": "2025-01-21T04:23:33.115Z"
   },
   {
    "duration": 21,
    "start_time": "2025-01-21T04:23:46.521Z"
   },
   {
    "duration": 21,
    "start_time": "2025-01-21T04:24:23.738Z"
   },
   {
    "duration": 7,
    "start_time": "2025-01-21T04:24:32.954Z"
   },
   {
    "duration": 6,
    "start_time": "2025-01-21T04:24:35.442Z"
   },
   {
    "duration": 7,
    "start_time": "2025-01-21T04:24:45.810Z"
   },
   {
    "duration": 6,
    "start_time": "2025-01-21T04:37:32.601Z"
   },
   {
    "duration": 6,
    "start_time": "2025-01-21T04:37:52.603Z"
   },
   {
    "duration": 6,
    "start_time": "2025-01-21T04:37:56.723Z"
   },
   {
    "duration": 6,
    "start_time": "2025-01-21T04:38:16.632Z"
   },
   {
    "duration": 6,
    "start_time": "2025-01-21T04:38:29.160Z"
   },
   {
    "duration": 20,
    "start_time": "2025-01-21T04:39:41.939Z"
   },
   {
    "duration": 19,
    "start_time": "2025-01-21T04:40:03.508Z"
   },
   {
    "duration": 20,
    "start_time": "2025-01-21T04:47:54.866Z"
   },
   {
    "duration": 21,
    "start_time": "2025-01-21T04:54:02.382Z"
   },
   {
    "duration": 20,
    "start_time": "2025-01-21T04:54:27.589Z"
   },
   {
    "duration": 19,
    "start_time": "2025-01-21T04:55:12.366Z"
   },
   {
    "duration": 20,
    "start_time": "2025-01-21T04:55:46.206Z"
   },
   {
    "duration": 10,
    "start_time": "2025-01-21T04:56:47.710Z"
   },
   {
    "duration": 7,
    "start_time": "2025-01-21T04:57:20.014Z"
   },
   {
    "duration": 7,
    "start_time": "2025-01-21T04:57:57.773Z"
   },
   {
    "duration": 6,
    "start_time": "2025-01-21T04:58:07.942Z"
   },
   {
    "duration": 7,
    "start_time": "2025-01-21T04:58:39.619Z"
   },
   {
    "duration": 20,
    "start_time": "2025-01-21T04:58:55.478Z"
   },
   {
    "duration": 6,
    "start_time": "2025-01-21T04:59:20.036Z"
   },
   {
    "duration": 8,
    "start_time": "2025-01-21T15:51:11.789Z"
   },
   {
    "duration": 8,
    "start_time": "2025-01-21T15:51:23.232Z"
   },
   {
    "duration": 5,
    "start_time": "2025-01-21T15:51:40.809Z"
   },
   {
    "duration": 4,
    "start_time": "2025-01-21T15:51:40.817Z"
   },
   {
    "duration": 2,
    "start_time": "2025-01-21T15:51:40.823Z"
   },
   {
    "duration": 3,
    "start_time": "2025-01-21T15:51:40.828Z"
   },
   {
    "duration": 3,
    "start_time": "2025-01-21T15:51:40.833Z"
   },
   {
    "duration": 3,
    "start_time": "2025-01-21T15:51:40.838Z"
   },
   {
    "duration": 3,
    "start_time": "2025-01-21T15:51:40.843Z"
   },
   {
    "duration": 3,
    "start_time": "2025-01-21T15:51:40.848Z"
   },
   {
    "duration": 3,
    "start_time": "2025-01-21T15:51:40.853Z"
   },
   {
    "duration": 4,
    "start_time": "2025-01-21T15:51:40.858Z"
   },
   {
    "duration": 5,
    "start_time": "2025-01-21T15:51:40.881Z"
   },
   {
    "duration": 6,
    "start_time": "2025-01-21T15:51:40.888Z"
   },
   {
    "duration": 31,
    "start_time": "2025-01-21T15:51:40.896Z"
   }
  ],
  "colab": {
   "provenance": []
  },
  "kernelspec": {
   "display_name": "base",
   "language": "python",
   "name": "python3"
  },
  "language_info": {
   "codemirror_mode": {
    "name": "ipython",
    "version": 3
   },
   "file_extension": ".py",
   "mimetype": "text/x-python",
   "name": "python",
   "nbconvert_exporter": "python",
   "pygments_lexer": "ipython3",
   "version": "3.12.3"
  },
  "toc": {
   "base_numbering": 1,
   "nav_menu": {},
   "number_sections": true,
   "sideBar": true,
   "skip_h1_title": true,
   "title_cell": "Table of Contents",
   "title_sidebar": "Contents",
   "toc_cell": false,
   "toc_position": {},
   "toc_section_display": true,
   "toc_window_display": false
  }
 },
 "nbformat": 4,
 "nbformat_minor": 1
}
